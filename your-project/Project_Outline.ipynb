{
 "cells": [
  {
   "cell_type": "markdown",
   "metadata": {},
   "source": [
    "### Tic-Tac-Toe: Project Outline"
   ]
  },
  {
   "cell_type": "markdown",
   "metadata": {},
   "source": [
    "#### List of functions needed\n",
    "- Rules of the game when first starting\n",
    "- Choice between 1 VS CPU or 1 VS 1\n",
    "- Choice between using \"O\" or \"X\"\n",
    "- Create empty board (internally as a 3x3 matrix/list of lists, and probably displayed using normal ASCII characters such as pipe \"|\" and lower dash \"_\")\n",
    "eg.:\n",
    "\n",
    "_|_|_  \n",
    "_|_|_  \n",
    "   | |\n",
    " \n",
    "which looks terribly ugly but it's faster than learning Processing in one day\n",
    "- Put piece on board (with input validation and a check-if-space-is-empty something)\n",
    "- Display board after every move\n",
    "- Switch player after every move\n",
    "- Random move generator for CPU (Possibly (POSSIBLY) some kind of \"If one move from winning, then do that move\")\n",
    "- Check when board state means something won\n",
    "- Possibly a Y/N prompt to start a new game"
   ]
  },
  {
   "cell_type": "code",
   "execution_count": null,
   "metadata": {},
   "outputs": [],
   "source": []
  }
 ],
 "metadata": {
  "kernelspec": {
   "display_name": "Python 3",
   "language": "python",
   "name": "python3"
  },
  "language_info": {
   "codemirror_mode": {
    "name": "ipython",
    "version": 3
   },
   "file_extension": ".py",
   "mimetype": "text/x-python",
   "name": "python",
   "nbconvert_exporter": "python",
   "pygments_lexer": "ipython3",
   "version": "3.7.3"
  }
 },
 "nbformat": 4,
 "nbformat_minor": 2
}
