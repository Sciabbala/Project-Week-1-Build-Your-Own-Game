{
 "cells": [
  {
   "cell_type": "code",
   "execution_count": 25,
   "metadata": {},
   "outputs": [],
   "source": [
    "rules = r\"\"\"This is Tic-Tac-Toe. You may know it as Tris or Tres en Raya in case\n",
    "you come from a country that won FOUR world cups or just one.\n",
    "\n",
    "The rules are simple:\n",
    "- The game is played on a 3x3 board with empty spaces\n",
    "- At the start of the game you choose either O or X as the symbol you want to use\n",
    "- The player with X starts. This is not actually in the rules, but I like it that way\n",
    "- Each turn a player puts one of their symbol in an empty space\n",
    "- A player wins when they manage to have 3 of their symbols\n",
    "in any horizontal or vertical line or in one of the two long diagonals\n",
    "- The game ends in a draw if there are no possible moves and the previous condition hasn't \n",
    "been met\n",
    "\n",
    "Also, this is what's called a futile game. This means that, given perfect play from both players\n",
    "(which isn't really hard since this is Tic-Tac-Toe), the game will ALWAYS ends in a Draw.\n",
    "You have been warned.\"\"\""
   ]
  },
  {
   "cell_type": "code",
   "execution_count": 26,
   "metadata": {},
   "outputs": [
    {
     "name": "stdout",
     "output_type": "stream",
     "text": [
      "This is Tic-Tac-Toe. You may know it as Tris or Tres en Raya in case\n",
      "you come from a country that won FOUR world cups or just one.\n",
      "\n",
      "The rules are simple:\n",
      "- The game is played on a 3x3 board with empty spaces\n",
      "- At the start of the game you choose either O or X as the symbol you want to use\n",
      "- The player with X starts. This is not actually in the rules, but I like it that way\n",
      "- Each turn a player puts one of their symbol in an empty space\n",
      "- A player wins when they manage to have 3 of their symbols\n",
      "in any horizontal or vertical line or in one of the two long diagonals\n",
      "- The game ends in a draw if there are no possible moves and the previous condition hasn't \n",
      "been met\n",
      "\n",
      "Also, this is what's called a futile game. This means that, given perfect play from both players\n",
      "(which isn't really hard since this is Tic-Tac-Toe), the game will ALWAYS ends in a Draw.\n",
      "You have been warned.\n"
     ]
    }
   ],
   "source": [
    "print(rules)"
   ]
  },
  {
   "cell_type": "code",
   "execution_count": 52,
   "metadata": {},
   "outputs": [
    {
     "ename": "SyntaxError",
     "evalue": "invalid syntax (<ipython-input-52-32cb3527db87>, line 25)",
     "output_type": "error",
     "traceback": [
      "\u001b[0;36m  File \u001b[0;32m\"<ipython-input-52-32cb3527db87>\"\u001b[0;36m, line \u001b[0;32m25\u001b[0m\n\u001b[0;31m    return player1_mark, \"o\"\u001b[0m\n\u001b[0m         ^\u001b[0m\n\u001b[0;31mSyntaxError\u001b[0m\u001b[0;31m:\u001b[0m invalid syntax\n"
     ]
    }
   ],
   "source": [
    "# Creating two empty variables for the mark choices. In a CPU game type computer is always player2.\n",
    "\n",
    "\n",
    "# A function to validate the user input and that lets them decide who they want to play against.\n",
    "# Returns the game type\n",
    "def game_start():\n",
    "    while True:\n",
    "        game_type = input(\"\"\"Please choose if you want to play against the computer or a human.\n",
    "To do that, please input either \"computer\" or \"human\"\"\").lower()\n",
    "        if game_type in (\"computer\", \"human\"):\n",
    "                break\n",
    "        else:\n",
    "            print(\"I'm quite sure that wasn't neither \\\"computer\\\" nor \\\"human\\\"\")\n",
    "    return game_type\n",
    "\n",
    "def mark_choice(game_type):\n",
    "    if game_type == \"computer\":\n",
    "        while True:\n",
    "            player1_mark = input(\"\"\"You decided to play against the computer.\n",
    "            Select O (as in Orange) or X (as in Xenobiology)\n",
    "            as the symbol you want to play with. X starts\n",
    "                                 because I say so:\"\"\").lower()\n",
    "            if player1_mark == \"x\":\n",
    "                print(\"\"\"You chose X (as in Xenophobia). The computer will play with O \n",
    "                      (as in Organ trafficking).\"\"\"\n",
    "                # First index is player1, second is player2\n",
    "                return player1_mark, \"o\"\n",
    "            elif player1_mark == \"o\":\n",
    "                print(\"\"\"You chose O (as in Obamacare). The computer will play with X \n",
    "                      (as in  Xerox).\"\"\"\n",
    "                # First index is player1, second is player2\n",
    "                return \"o\", \"x\"\n",
    "            else:\n",
    "                print(\"\"\"I even gave you reference words, you can do this.\"\"\")\n",
    "player1_mark, player2_mark = mark_choice(\"computer\")\n",
    "                \n",
    "                      \n",
    "                "
   ]
  },
  {
   "cell_type": "code",
   "execution_count": 46,
   "metadata": {},
   "outputs": [],
   "source": [
    "player1_mark = \"\""
   ]
  },
  {
   "cell_type": "code",
   "execution_count": 47,
   "metadata": {},
   "outputs": [],
   "source": [
    "def zita():\n",
    "    player1_mark = \"diocane\"\n"
   ]
  },
  {
   "cell_type": "code",
   "execution_count": 48,
   "metadata": {},
   "outputs": [],
   "source": [
    "zita()"
   ]
  },
  {
   "cell_type": "code",
   "execution_count": 49,
   "metadata": {},
   "outputs": [
    {
     "data": {
      "text/plain": [
       "''"
      ]
     },
     "execution_count": 49,
     "metadata": {},
     "output_type": "execute_result"
    }
   ],
   "source": [
    "player1_mark"
   ]
  },
  {
   "cell_type": "code",
   "execution_count": null,
   "metadata": {},
   "outputs": [],
   "source": []
  }
 ],
 "metadata": {
  "kernelspec": {
   "display_name": "Python 3",
   "language": "python",
   "name": "python3"
  },
  "language_info": {
   "codemirror_mode": {
    "name": "ipython",
    "version": 3
   },
   "file_extension": ".py",
   "mimetype": "text/x-python",
   "name": "python",
   "nbconvert_exporter": "python",
   "pygments_lexer": "ipython3",
   "version": "3.7.3"
  }
 },
 "nbformat": 4,
 "nbformat_minor": 2
}
