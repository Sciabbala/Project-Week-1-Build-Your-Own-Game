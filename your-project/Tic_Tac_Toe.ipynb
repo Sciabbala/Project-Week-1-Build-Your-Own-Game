{
 "cells": [
  {
   "cell_type": "code",
   "execution_count": null,
   "metadata": {},
   "outputs": [],
   "source": [
    "rules = r\"\"\"This is Tic-Tac-Toe. You may know it as Tris or Tres en Raya in case\n",
    "you come from a country that won FOUR world cups or just one.\n",
    "\n",
    "The rules are simple:\n",
    "- The game is played on a 3x3 board with empty spaces\n",
    "- At the start of the game you choose either O or X as the symbol you want to use\n",
    "- Each turn a player puts one of their symbol in an empty space\n",
    "- A player wins when they manage to have 3 of their symbols\n",
    "in any horizontal or vertical line or in one of the two long diagonals\n",
    "- The game ends in a draw if there are no possible moves and the previous condition hasn't \n",
    "been met\n",
    "- You can only play against the computer\n",
    "\n",
    "Also, this is what's called a futile game. This means that, given perfect play from both players\n",
    "(which isn't really hard since this is Tic-Tac-Toe), the game will ALWAYS ends in a Draw.\n",
    "You have been warned.\n",
    "\n",
    "When asking to place a piece the program understands the following positions: 'top left',\n",
    "'top', 'top right', 'left', 'center', 'right', 'bottom left', 'bottom', 'bottom right'.\"\"\""
   ]
  },
  {
   "cell_type": "code",
   "execution_count": null,
   "metadata": {},
   "outputs": [],
   "source": [
    "print(rules)"
   ]
  },
  {
   "cell_type": "code",
   "execution_count": null,
   "metadata": {},
   "outputs": [],
   "source": [
    "# A turn counter. Will get a +1 after every turn\n",
    "turn_counter = 1\n",
    "\n",
    "# A bool to check whose turn is it\n",
    "player1_turn = True\n",
    "\n",
    "# Global variables for players mark since they remain the same for the whole duration of the game and it's bad practice that makes things easier\n",
    "player1_mark = 0\n",
    "player2_mark = 0\n",
    "\n",
    "# Dictionary to relate natural language positions to matrix positions\n",
    "position_dict = {'top left': (0,0), 'top': (0,1), 'top right': (0,2), 'left':(1,0), 'center':(1,1), 'right':(1,2), \n",
    "                 'bottom left':(2,0), 'bottom':(2,1), 'bottom right':(2,2)}"
   ]
  },
  {
   "cell_type": "code",
   "execution_count": 34,
   "metadata": {},
   "outputs": [],
   "source": [
    "# Lets the user choose the mark\n",
    "def mark_choice():\n",
    "    while True:\n",
    "        # They're not going to change, I'll just make them global instead of having to pass them into every single function everytime\n",
    "        global player1_mark\n",
    "        global player2_mark\n",
    "        user_input = input(\"\"\"You will play against the computer since \n",
    "        I haven't programmed 2-player games. Select O (as in Orange) or X (as in Xenobiology) \n",
    "        as the symbol you want to play with:\"\"\").lower()\n",
    "        if user_input == \"x\":\n",
    "            print(\"\"\"You chose X (as in Xenophobia). The computer will play with O \n",
    "        (as in Organ trafficking).\"\"\")\n",
    "            # First index is player1, second is player2\n",
    "            player1_mark = \"x\"\n",
    "            player2_mark = \"o\"\n",
    "            break\n",
    "        elif user_input == \"o\":\n",
    "            print(\"\"\"You chose O (as in Obamacare). The computer will play with X \n",
    "        (as in  Xerox).\"\"\")\n",
    "            # First index is player1, second is player2\n",
    "            player1_mark = \"o\"\n",
    "            player2_mark = \"x\"\n",
    "            break\n",
    "        else:\n",
    "            print(\"\"\"It's either X or O, I even gave you reference words, you can do this.\"\"\")\n",
    "            continue\n",
    "\n",
    "\n",
    "# This takes the matrix of positions and uses it to print the current state of the board.\n",
    "# It will be called after every turn\n",
    "def game_board_printer(positions):\n",
    "    print(f\"\"\"{positions[0][0]}|{positions[0][1]}|{positions[0][2]}\n",
    "—————\n",
    "{positions[1][0]}|{positions[1][1]}|{positions[1][2]}\n",
    "—————\n",
    "{positions[2][0]}|{positions[2][1]}|{positions[2][2]}\"\"\")\n",
    "\n",
    "def request_position_from_user(positions):\n",
    "    while True:\n",
    "        player_request = input(f\"Where do you want to put your {player_mark.upper()}?\").lower()\n",
    "        if player_request not in position_dict.keys():\n",
    "            print(\"That is not an allowed position. Please refer to the following list (DO NOT use apostrophes): 'top left',\\\n",
    "                  'top', 'top right', 'left', 'center', 'right', 'bottom left', 'bottom', 'bottom right'.\")\n",
    "        elif player_request in position_dict.keys() and \\\n",
    "        positions[position_dict[player_request][0]][position_dict[player_request][1]] != ' ':\n",
    "            print(\"That position is already occupied, please choose a different one:\")\n",
    "        else:\n",
    "            positions[position_dict[player_request][0]][position_dict[player_request][1]] = player_mark\n",
    "            break\n",
    "    game_board_printer(positions)\n",
    "\n",
    "\n",
    "def check_turn():\n",
    "    global player1_turn\n",
    "    global turn_counter\n",
    "    if player1_turn:\n",
    "        # Switching True to False so that next tur\n",
    "        player1_turn = not player1_turn\n",
    "        print(f\"It's your turn and it's round number {turn_counter}.\")\n",
    "    else:\n",
    "        player1_turn = not player1_turn\n",
    "        print(f\"It's the computer's turn and it's round number {turn_counter}.\")\n",
    "        \n",
    "#This checks when the game end, either because someone won or because it's a tie\n",
    "def check_end_of_game(positions):\n",
    "    board_size = len(board)\n",
    "    # Checking horizontal lines\n",
    "    for row in range(board_size):\n",
    "        if all((mark == 'x' or mark == 'o') for mark in positions[row]):\n",
    "            print(\"Win\")\n",
    "    # Zipping an unpacked nested list gives you the transposed list. Checking the horizontal lines in such a list is the same as checking the verticals in the\n",
    "    # original one        \n",
    "    for column in zip(*positions):\n",
    "        if all((mark == 'x' or mark == 'o') for mark in column):\n",
    "            print(\"Win\")\n",
    "    # Forward diagonal\n",
    "    if all((mark == 'x' or mark == 'o') for mark in [position[i][i] for i in range(3)]):\n",
    "        print(\"Win\")\n",
    "    # Inverse diagonal: The sum of the indexes of the points that are part of an inverse diagonal is equal to board size -1. I could just use 3, but let's\n",
    "    # make a variable for clarity\n",
    "    elif all((mark == 'x' or mark == 'o') for mark in [position[i][board_size -i -1] for i in range(3)]):\n",
    "        print(\"Win\")\n",
    "    # Checking if all squares are occupied\n",
    "    elif all((mark == 'x' or mark == 'o') for mark in [mark for line in positions for mark in line]):\n",
    "        print(\"Tie\")\n",
    "        \n",
    "\n",
    "# Creating empty matrix to store marks during the game\n",
    "marks_positions_matrix = [[' ' for x in range(3)] for k in range(3)]\n",
    "        \n",
    "    \n",
    "    \n",
    "\n",
    "                "
   ]
  },
  {
   "cell_type": "code",
   "execution_count": null,
   "metadata": {},
   "outputs": [],
   "source": []
  },
  {
   "cell_type": "code",
   "execution_count": null,
   "metadata": {},
   "outputs": [],
   "source": [
    "marks_positions_matrix"
   ]
  },
  {
   "cell_type": "code",
   "execution_count": null,
   "metadata": {},
   "outputs": [],
   "source": [
    "def game_board_printer(positions):\n",
    "    print(f\"\"\"{positions[0][0]}|{positions[0][1]}|{positions[0][2]}\n",
    "—————\n",
    "{positions[1][0]}|{positions[1][1]}|{positions[1][2]}\n",
    "—————\n",
    "{positions[2][0]}|{positions[2][1]}|{positions[2][2]}\"\"\")\n",
    "    \n",
    "game_board_printer(marks_positions_matrix)"
   ]
  },
  {
   "cell_type": "code",
   "execution_count": null,
   "metadata": {},
   "outputs": [],
   "source": []
  },
  {
   "cell_type": "code",
   "execution_count": null,
   "metadata": {},
   "outputs": [],
   "source": [
    "position_dict = {'top left': (0,0), 'top': (0,1), 'top right': (0,2), 'left':(1,0), 'center':(1,1), 'right':(1,2),\n",
    "                 'bottom left':(2,0), 'bottom':(2,1), 'bottom right':(2,2)}\n",
    "marks_positions_matrix = [[' ' for x in range(3)] for k in range(3)]\n",
    "actual_matrix = marks_positions_matrix\n",
    "\n",
    "def request_position_from_user(player_mark, positions):\n",
    "    game_board_printer(positions)\n",
    "    while True:\n",
    "        player_request = input(f\"Where do you want to put your {player_mark.upper()}?\").lower()\n",
    "        if player_request not in position_dict.keys():\n",
    "            print(\"That is not an allowed position. Please refer to the following list (DO NOT use apostrophes): 'top left',\\\n",
    "                  'top', 'top right', 'left', 'center', 'right', 'bottom left', 'bottom', 'bottom right'.\")\n",
    "        elif player_request in position_dict.keys() and \\\n",
    "        positions[position_dict[player_request][0]][position_dict[player_request][1]] != ' ':\n",
    "            print(\"That position is already occupied, please choose a different one:\")\n",
    "        else:\n",
    "            positions[position_dict[player_request][0]][position_dict[player_request][1]] = player_mark\n",
    "            break\n",
    "    game_board_printer(positions)\n",
    "request_position_from_user(\"x\",actual_matrix)\n",
    "            \n"
   ]
  },
  {
   "cell_type": "code",
   "execution_count": null,
   "metadata": {},
   "outputs": [],
   "source": [
    "position_dict = {'top left': (0,0), 'top': (0,1), 'top right': [0,2], 'left':(1,0), 'center':(1,1), 'right':(1,2),\n",
    "                 'bottom left':(2,0), 'bottom':(2,1), 'bottom right':(2,2)}\n",
    "\n",
    "lista = [1,2,3,4,5]\n",
    "lista[position_dict['top right'][0]]"
   ]
  },
  {
   "cell_type": "code",
   "execution_count": null,
   "metadata": {},
   "outputs": [],
   "source": [
    "marks_positions_matrix = [[' ' for x in range(3)] for k in range(3)]\n",
    "positions = marks_positions_matrix\n",
    "positions[0][1] = \"X\""
   ]
  },
  {
   "cell_type": "code",
   "execution_count": null,
   "metadata": {},
   "outputs": [],
   "source": [
    "position_dict['top right'][0]\n",
    "position_dict['top right'][1]"
   ]
  },
  {
   "cell_type": "code",
   "execution_count": null,
   "metadata": {},
   "outputs": [],
   "source": [
    "positions[position_dict['top right']]\n"
   ]
  },
  {
   "cell_type": "code",
   "execution_count": null,
   "metadata": {},
   "outputs": [],
   "source": [
    "\n",
    "mark_choice()\n",
    "print(player1_mark)"
   ]
  },
  {
   "cell_type": "code",
   "execution_count": null,
   "metadata": {},
   "outputs": [],
   "source": [
    "input(\"\"\"You will play against the computer since \n",
    "        I haven't programmed 2-player games. Select O (as in Orange) or X (as in Xenobiology) \n",
    "        as the symbol you want to play with:\"\"\").lower()"
   ]
  },
  {
   "cell_type": "code",
   "execution_count": null,
   "metadata": {},
   "outputs": [],
   "source": [
    "positions = [['', 'x', ''], \n",
    "             ['', 'x', ''], \n",
    "             ['', 'x', '']]\n",
    "for j in zip(*positions):\n",
    "    if all(x == '' for x in j):\n",
    "        print(f\"Win at row {j + 1} with mark {positions[j][0]}\")\n",
    "    \n",
    "\n"
   ]
  },
  {
   "cell_type": "code",
   "execution_count": 39,
   "metadata": {},
   "outputs": [
    {
     "name": "stdout",
     "output_type": "stream",
     "text": [
      "Tie\n"
     ]
    }
   ],
   "source": [
    "positions = [['x', 'x', 'x'], \n",
    "             ['x', 'x', 'x'], \n",
    "             ['x', 'x', 'x']]\n",
    "\n",
    "if all((mark == 'x' or mark == 'o') for mark in [mark for line in positions for mark in line]):\n",
    "    print(\"Tie\")"
   ]
  },
  {
   "cell_type": "code",
   "execution_count": null,
   "metadata": {},
   "outputs": [],
   "source": [
    "marks_positions_matrix = [[' ' for x in range(3)] for k in range(3)]\n",
    " el"
   ]
  },
  {
   "cell_type": "code",
   "execution_count": null,
   "metadata": {},
   "outputs": [],
   "source": [
    "positions = [['x' for x in range(3)] for k in range(3)]\n",
    "positions"
   ]
  },
  {
   "cell_type": "code",
   "execution_count": null,
   "metadata": {},
   "outputs": [],
   "source": [
    "test_matrix =[['1', '2', '3'], ['4', '5', '6'], ['7', '8', '9']]\n",
    "for i in (zip(*test_matrix)):\n",
    "    print(i)"
   ]
  },
  {
   "cell_type": "markdown",
   "metadata": {},
   "source": [
    "## for i in range(3):\n",
    "    print(f\"Ext. loop num: {i + 1}\")\n",
    "    for k in range(3):\n",
    "        print(test_matrix[k][i])"
   ]
  },
  {
   "cell_type": "code",
   "execution_count": null,
   "metadata": {},
   "outputs": [],
   "source": [
    "if for i in range(3) all(x == 3 in [3,3,3])"
   ]
  },
  {
   "cell_type": "code",
   "execution_count": 49,
   "metadata": {},
   "outputs": [
    {
     "name": "stdout",
     "output_type": "stream",
     "text": [
      "Win column\n"
     ]
    }
   ],
   "source": [
    "positions = [['x', 'x', ''], \n",
    "             ['x', '', ''], \n",
    "             ['x', '', '']]\n",
    "        \n",
    "def check_end_of_game(positions):\n",
    "    board_size = len(positions)\n",
    "    # Checking horizontal lines\n",
    "    for row in range(board_size):\n",
    "        if all((mark == 'x' or mark == 'o') for mark in positions[row]):\n",
    "            print(\"Win horizontal\")\n",
    "    # Zipping an unpacked nested list gives you the transposed list. Checking the horizontal lines in such a list is the same as checking the verticals in the\n",
    "    # original one        \n",
    "    for column in zip(*positions):\n",
    "        if all((mark == 'x' or mark == 'o') for mark in column):\n",
    "            print(\"Win column\")\n",
    "    # Forward diagonal\n",
    "    if all((mark == 'x' or mark == 'o') for mark in [positions[i][i] for i in range(3)]):\n",
    "        print(\"Win fd\")\n",
    "    # Inverse diagonal: The sum of the indexes of the points that are part of an inverse diagonal is equal to board size -1. I could just use 3, but let's\n",
    "    # make a variable for clarity\n",
    "    elif all((mark == 'x' or mark == 'o') for mark in [positions[i][board_size -i -1] for i in range(3)]):\n",
    "        print(\"Win id\")\n",
    "    # Checking if all squares are occupied\n",
    "    elif all((mark == 'x' or mark == 'o') for mark in [mark for line in positions for mark in line]):\n",
    "        print(\"Tie\")\n",
    "\n",
    "check_end_of_game(positions)"
   ]
  },
  {
   "cell_type": "code",
   "execution_count": null,
   "metadata": {},
   "outputs": [],
   "source": [
    "positions =[['1', '2', '3'], ['4', '5', '6'], ['7', '8', '9']]\n",
    "board_size = 3\n",
    "\n",
    "for i in range(3):\n",
    "    print(positions[i][board_size -i -1])\n"
   ]
  },
  {
   "cell_type": "code",
   "execution_count": 31,
   "metadata": {},
   "outputs": [
    {
     "data": {
      "text/plain": [
       "['x', 'x', 'x', 'x', '2', 'x', '', 'x', 'x']"
      ]
     },
     "execution_count": 31,
     "metadata": {},
     "output_type": "execute_result"
    }
   ],
   "source": [
    "positions = [['x', 'x', 'x'], \n",
    "             ['x', '2', 'x'], \n",
    "             ['', 'x', 'x']]\n",
    "\n",
    "cane = [mark for line in positions for mark in line]\n",
    "cane"
   ]
  },
  {
   "cell_type": "code",
   "execution_count": null,
   "metadata": {},
   "outputs": [],
   "source": []
  }
 ],
 "metadata": {
  "kernelspec": {
   "display_name": "Python 3",
   "language": "python",
   "name": "python3"
  },
  "language_info": {
   "codemirror_mode": {
    "name": "ipython",
    "version": 3
   },
   "file_extension": ".py",
   "mimetype": "text/x-python",
   "name": "python",
   "nbconvert_exporter": "python",
   "pygments_lexer": "ipython3",
   "version": "3.7.3"
  }
 },
 "nbformat": 4,
 "nbformat_minor": 2
}
