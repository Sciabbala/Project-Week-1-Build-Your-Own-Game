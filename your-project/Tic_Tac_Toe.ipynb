{
 "cells": [
  {
   "cell_type": "code",
   "execution_count": null,
   "metadata": {},
   "outputs": [],
   "source": [
    "rules = r\"\"\"This is Tic-Tac-Toe. You may know it as Tris or Tres en Raya in case\n",
    "you come from a country that won FOUR world cups or just one.\n",
    "\n",
    "The rules are simple:\n",
    "- The game is played on a 3x3 board with empty spaces\n",
    "- At the start of the game you choose either O or X as the symbol you want to use\n",
    "- The player with X starts. This is not actually in the rules, but I like it that way\n",
    "- Each turn a player puts one of their symbol in an empty space\n",
    "- A player wins when they manage to have 3 of their symbols\n",
    "in any horizontal or vertical line or in one of the two long diagonals\n",
    "- The game ends in a draw if there are no possible moves and the previous condition hasn't \n",
    "been met\n",
    "\n",
    "Also, this is what's called a futile game. This means that, given perfect play from both players\n",
    "(which isn't really hard since this is Tic-Tac-Toe), the game will ALWAYS ends in a Draw.\n",
    "You have been warned.\n",
    "\n",
    "When asking to place a piece the program understands the following positions: 'top left',\n",
    "'top', 'top right', 'left', 'center', 'right', 'bottom left', 'bottom', 'bottom right'.\"\"\""
   ]
  },
  {
   "cell_type": "code",
   "execution_count": null,
   "metadata": {},
   "outputs": [],
   "source": [
    "print(rules)"
   ]
  },
  {
   "cell_type": "code",
   "execution_count": null,
   "metadata": {},
   "outputs": [],
   "source": [
    "# Dictionary to relate natural language positions to matrix positions\n",
    "position_dict = {'top left': (0,0), 'top': (0,1), 'top right': (0,2), 'left':(1,0), 'center':(1,1), 'right'(1,2), \n",
    "                 'bottom left':(2,0), 'bottom':(2,1), 'bottom right':(2,2)}\n",
    "\n",
    "\n",
    "# A function to validate the user input and that lets them decide who they want to play against.\n",
    "# Returns the game type\n",
    "def game_start():\n",
    "    while True:\n",
    "        game_type = input(\"\"\"Please choose if you want to play against the computer or a human.\n",
    "To do that, please input either \"computer\" or \"human\"\"\").lower()\n",
    "        if game_type in (\"computer\", \"human\"):\n",
    "                break\n",
    "        else:\n",
    "            print(\"I'm quite sure that wasn't neither \\\"computer\\\" nor \\\"human\\\"\")\n",
    "    return game_type\n",
    "\n",
    "### TODO: Check why \"marks = [\"x\", \"o\"]\" is a SYNTAX ERROR\n",
    "def mark_choice(game_type):\n",
    "    if game_type == \"computer\":\n",
    "        while True:\n",
    "            player1_mark = input(\"\"\"You decided to play against the computer.\n",
    "            Select O (as in Orange) or X (as in Xenobiology)\n",
    "            as the symbol you want to play with. X starts\n",
    "                                 because reasons:\"\"\").lower()\n",
    "            if player1_mark == \"x\":\n",
    "                print(\"\"\"You chose X (as in Xenophobia). The computer will play with O \n",
    "            (as in Organ trafficking).\"\"\")\n",
    "                # First index is player1, second is player2\n",
    "                return (\"x\", \"o\")\n",
    "            elif player1_mark == \"o\":\n",
    "                print(\"\"\"You chose O (as in Obamacare). The computer will play with X \n",
    "            (as in  Xerox).\"\"\")\n",
    "                # First index is player1, second is player2\n",
    "                return (\"o\", \"x\")\n",
    "            else:\n",
    "                print(\"\"\"It's either X or O, I even gave you reference words, you can do this.\"\"\")\n",
    "                continue\n",
    "    return marks\n",
    "#player1_mark, player2_mark = mark_choice(\"computer\")\n",
    "\n",
    "# This takes the matrix of positions and uses it to print the current state of the board.\n",
    "# It will be called after every turn\n",
    "def game_board_printer(positions):\n",
    "    print(f\"\"\"{positions[0][0]}|{positions[0][1]}|{positions[0][2]}\n",
    "—————\n",
    "{positions[1][0]}|{positions[1][1]}|{positions[1][2]}\n",
    "—————\n",
    "{positions[2][0]}|{positions[2][1]}|{positions[2][2]}\"\"\")\n",
    "\n",
    "def request_position_from_user(player_mark, positions):\n",
    "    while True:\n",
    "        player_request = input(f\"Where do you want to put your {player_mark.upper()}?\").lower()\n",
    "        if player_request not in position_dict.keys():\n",
    "            print(\"That is not an allowed position. Please refer to the following list (DO NOT use apostrophes): 'top left',\n",
    "                  'top', 'top right', 'left', 'center', 'right', 'bottom left', 'bottom', 'bottom right'.\")\n",
    "            break\n",
    "        elif player_request in position_dict.keys() and\n",
    "            \n",
    "        \n",
    "        \n",
    "    \n",
    "    \n",
    "    \n",
    "def place_mark():\n",
    "    \n",
    "    \n",
    "\n",
    "                "
   ]
  },
  {
   "cell_type": "code",
   "execution_count": null,
   "metadata": {},
   "outputs": [],
   "source": [
    "# Creating empty matrix to store marks during the game\n",
    "marks_positions_matrix = [[' ' for x in range(3)] for k in range(3)]"
   ]
  },
  {
   "cell_type": "code",
   "execution_count": null,
   "metadata": {},
   "outputs": [],
   "source": [
    "marks_positions_matrix"
   ]
  },
  {
   "cell_type": "code",
   "execution_count": null,
   "metadata": {},
   "outputs": [],
   "source": [
    "def game_board_printer(positions):\n",
    "    print(f\"\"\"{positions[0][0]}|{positions[0][1]}|{positions[0][2]}\n",
    "—————\n",
    "{positions[1][0]}|{positions[1][1]}|{positions[1][2]}\n",
    "—————\n",
    "{positions[2][0]}|{positions[2][1]}|{positions[2][2]}\"\"\")\n",
    "    \n",
    "game_board_printer(marks_positions_matrix)"
   ]
  },
  {
   "cell_type": "code",
   "execution_count": 45,
   "metadata": {},
   "outputs": [
    {
     "name": "stdout",
     "output_type": "stream",
     "text": [
      "Where do you want to put your X12\n",
      "12\n"
     ]
    }
   ],
   "source": []
  },
  {
   "cell_type": "code",
   "execution_count": null,
   "metadata": {},
   "outputs": [],
   "source": []
  }
 ],
 "metadata": {
  "kernelspec": {
   "display_name": "Python 3",
   "language": "python",
   "name": "python3"
  },
  "language_info": {
   "codemirror_mode": {
    "name": "ipython",
    "version": 3
   },
   "file_extension": ".py",
   "mimetype": "text/x-python",
   "name": "python",
   "nbconvert_exporter": "python",
   "pygments_lexer": "ipython3",
   "version": "3.7.3"
  }
 },
 "nbformat": 4,
 "nbformat_minor": 2
}
